{
  "cells": [
    {
      "cell_type": "code",
      "source": [
        "!pip install torchviz"
      ],
      "metadata": {
        "colab": {
          "base_uri": "https://localhost:8080/"
        },
        "id": "JET-1zihtq-x",
        "outputId": "3a9d6b60-67b1-4547-b6ec-5d07c77c8e06"
      },
      "execution_count": 14,
      "outputs": [
        {
          "output_type": "stream",
          "name": "stdout",
          "text": [
            "Requirement already satisfied: torchviz in /usr/local/lib/python3.7/dist-packages (0.0.2)\n",
            "Requirement already satisfied: graphviz in /usr/local/lib/python3.7/dist-packages (from torchviz) (0.10.1)\n",
            "Requirement already satisfied: torch in /usr/local/lib/python3.7/dist-packages (from torchviz) (1.10.0+cu111)\n",
            "Requirement already satisfied: typing-extensions in /usr/local/lib/python3.7/dist-packages (from torch->torchviz) (3.10.0.2)\n"
          ]
        }
      ]
    },
    {
      "cell_type": "code",
      "source": [
        "!pip install pytorch_model_summary"
      ],
      "metadata": {
        "colab": {
          "base_uri": "https://localhost:8080/"
        },
        "id": "kusWg4_at4Ah",
        "outputId": "f41cd27e-5984-4bb4-acae-9c970b3a84a7"
      },
      "execution_count": 15,
      "outputs": [
        {
          "output_type": "stream",
          "name": "stdout",
          "text": [
            "Requirement already satisfied: pytorch_model_summary in /usr/local/lib/python3.7/dist-packages (0.1.2)\n",
            "Requirement already satisfied: numpy in /usr/local/lib/python3.7/dist-packages (from pytorch_model_summary) (1.21.5)\n",
            "Requirement already satisfied: torch in /usr/local/lib/python3.7/dist-packages (from pytorch_model_summary) (1.10.0+cu111)\n",
            "Requirement already satisfied: tqdm in /usr/local/lib/python3.7/dist-packages (from pytorch_model_summary) (4.63.0)\n",
            "Requirement already satisfied: typing-extensions in /usr/local/lib/python3.7/dist-packages (from torch->pytorch_model_summary) (3.10.0.2)\n"
          ]
        }
      ]
    },
    {
      "cell_type": "code",
      "source": [
        "import torch\n",
        "from torch import nn\n",
        "from torch.autograd import Variable\n",
        "from torchviz import make_dot, make_dot_from_trace"
      ],
      "metadata": {
        "id": "SZCRevfVtvmT"
      },
      "execution_count": 16,
      "outputs": []
    },
    {
      "cell_type": "code",
      "execution_count": 17,
      "metadata": {
        "colab": {
          "base_uri": "https://localhost:8080/"
        },
        "id": "CiUt9SrCtiFz",
        "outputId": "408f1ca3-69b0-4fdc-d084-9fa3816ecd35"
      },
      "outputs": [
        {
          "output_type": "stream",
          "name": "stdout",
          "text": [
            "AYE_MODEL(\n",
            "  (conv1): Conv2d(1, 64, kernel_size=(3, 3), stride=(1, 1), padding=(1, 1), bias=False)\n",
            "  (conv2): Conv2d(64, 64, kernel_size=(3, 3), stride=(1, 1), padding=(1, 1), bias=False)\n",
            "  (conv3): Conv2d(64, 64, kernel_size=(3, 3), stride=(1, 1), padding=(1, 1), bias=False)\n",
            "  (conv4): Conv2d(64, 64, kernel_size=(3, 3), stride=(1, 1), padding=(1, 1), bias=False)\n",
            "  (conv5): Conv2d(64, 64, kernel_size=(3, 3), stride=(1, 1), padding=(1, 1), bias=False)\n",
            "  (conv6): Conv2d(64, 64, kernel_size=(3, 3), stride=(1, 1), padding=(1, 1), bias=False)\n",
            "  (conv7): Conv2d(64, 64, kernel_size=(3, 3), stride=(1, 1), padding=(1, 1), bias=False)\n",
            "  (conv8): Conv2d(64, 64, kernel_size=(3, 3), stride=(1, 1), padding=(1, 1), bias=False)\n",
            "  (conv9): Conv2d(64, 32, kernel_size=(3, 3), stride=(1, 1), padding=(1, 1), bias=False)\n",
            "  (conv10): Conv2d(32, 1, kernel_size=(3, 3), stride=(1, 1), padding=(1, 1), bias=False)\n",
            "  (relu): PReLU(num_parameters=1)\n",
            ")\n"
          ]
        }
      ],
      "source": [
        "import torch\n",
        "from torch import nn\n",
        "class AYE_MODEL(nn.Module):\n",
        "    def __init__(self, num_channels=1):\n",
        "        super(AYE_MODEL, self).__init__()\n",
        "        self.conv1 = nn.Conv2d(num_channels, 64, kernel_size=3, padding=3 // 2,bias=False)\n",
        "        self.conv2 = nn.Conv2d(64, 64, kernel_size=3, padding=3 // 2,bias=False)\n",
        "        self.conv3 = nn.Conv2d(64, 64, kernel_size=3, padding=3 // 2,bias=False)\n",
        "        self.conv4 = nn.Conv2d(64, 64, kernel_size=3, padding=3 // 2,bias=False)\n",
        "        self.conv5 = nn.Conv2d(64, 64, kernel_size=3, padding=3 // 2,bias=False)\n",
        "        self.conv6 = nn.Conv2d(64, 64, kernel_size=3, padding=3 // 2,bias=False)\n",
        "        self.conv7 = nn.Conv2d(64, 64, kernel_size=3, padding=3 // 2,bias=False)\n",
        "        self.conv8 = nn.Conv2d(64, 64, kernel_size=3, padding=3 // 2,bias=False)\n",
        "        self.conv9 = nn.Conv2d(64, 32, kernel_size=3, padding=3 // 2,bias=False)\n",
        "        self.conv10 = nn.Conv2d(32, num_channels, kernel_size=3, padding=3 // 2,bias=False)\n",
        "        self.relu = nn.PReLU()\n",
        "\n",
        "    def forward(self, x):\n",
        "        x = self.conv1(x)\n",
        "        x = self.relu(x)\n",
        "        x = self.conv2(x)\n",
        "        x = self.relu(x)\n",
        "        x = self.conv3(x)\n",
        "        x = self.relu(x)\n",
        "        x = self.conv4(x)\n",
        "        x = self.relu(x)\n",
        "        x = self.conv5(x)\n",
        "        x = self.relu(x)\n",
        "        x = self.conv6(x)\n",
        "        x = self.relu(x)\n",
        "        x = self.conv7(x)\n",
        "        x = self.relu(x)\n",
        "        x = self.conv8(x)\n",
        "        x = self.relu(x)\n",
        "        x = self.conv9(x)\n",
        "        x = self.relu(x)\n",
        "        x = self.conv10(x)\n",
        "        x = self.relu(x)\n",
        "        return x\n",
        "Ayemodel = AYE_MODEL()\n",
        "print(Ayemodel)"
      ]
    },
    {
      "cell_type": "code",
      "execution_count": 18,
      "metadata": {
        "colab": {
          "base_uri": "https://localhost:8080/"
        },
        "id": "277oFGnutiF1",
        "outputId": "c071038a-3dc3-408a-b501-08865d7f66b8"
      },
      "outputs": [
        {
          "output_type": "stream",
          "name": "stdout",
          "text": [
            "-----------------------------------------------------------------------\n",
            "      Layer (type)        Output Shape         Param #     Tr. Param #\n",
            "=======================================================================\n",
            "          Conv2d-1     [1, 64, 28, 28]             576             576\n",
            "           PReLU-2     [1, 64, 28, 28]               1               1\n",
            "          Conv2d-3     [1, 64, 28, 28]          36,864          36,864\n",
            "          Conv2d-4     [1, 64, 28, 28]          36,864          36,864\n",
            "          Conv2d-5     [1, 64, 28, 28]          36,864          36,864\n",
            "          Conv2d-6     [1, 64, 28, 28]          36,864          36,864\n",
            "          Conv2d-7     [1, 64, 28, 28]          36,864          36,864\n",
            "          Conv2d-8     [1, 64, 28, 28]          36,864          36,864\n",
            "          Conv2d-9     [1, 64, 28, 28]          36,864          36,864\n",
            "         Conv2d-10     [1, 32, 28, 28]          18,432          18,432\n",
            "         Conv2d-11      [1, 1, 28, 28]             288             288\n",
            "=======================================================================\n",
            "Total params: 277,345\n",
            "Trainable params: 277,345\n",
            "Non-trainable params: 0\n",
            "-----------------------------------------------------------------------\n",
            "\n",
            "\n",
            "========================================= Hierarchical Summary =========================================\n",
            "\n",
            "AYE_MODEL(\n",
            "  (conv1): Conv2d(1, 64, kernel_size=(3, 3), stride=(1, 1), padding=(1, 1), bias=False), 576 params\n",
            "  (conv2): Conv2d(64, 64, kernel_size=(3, 3), stride=(1, 1), padding=(1, 1), bias=False), 36,864 params\n",
            "  (conv3): Conv2d(64, 64, kernel_size=(3, 3), stride=(1, 1), padding=(1, 1), bias=False), 36,864 params\n",
            "  (conv4): Conv2d(64, 64, kernel_size=(3, 3), stride=(1, 1), padding=(1, 1), bias=False), 36,864 params\n",
            "  (conv5): Conv2d(64, 64, kernel_size=(3, 3), stride=(1, 1), padding=(1, 1), bias=False), 36,864 params\n",
            "  (conv6): Conv2d(64, 64, kernel_size=(3, 3), stride=(1, 1), padding=(1, 1), bias=False), 36,864 params\n",
            "  (conv7): Conv2d(64, 64, kernel_size=(3, 3), stride=(1, 1), padding=(1, 1), bias=False), 36,864 params\n",
            "  (conv8): Conv2d(64, 64, kernel_size=(3, 3), stride=(1, 1), padding=(1, 1), bias=False), 36,864 params\n",
            "  (conv9): Conv2d(64, 32, kernel_size=(3, 3), stride=(1, 1), padding=(1, 1), bias=False), 18,432 params\n",
            "  (conv10): Conv2d(32, 1, kernel_size=(3, 3), stride=(1, 1), padding=(1, 1), bias=False), 288 params\n",
            "  (relu): PReLU(num_parameters=1), 1 params\n",
            "), 277,345 params\n",
            "\n",
            "\n",
            "========================================================================================================\n",
            "\n"
          ]
        }
      ],
      "source": [
        "# show output shape and hierarchical view of net\n",
        "from pytorch_model_summary import summary\n",
        "print(summary(AYE_MODEL(), torch.zeros((1, 1, 28, 28)), show_input=False, show_hierarchical=True))"
      ]
    },
    {
      "cell_type": "code",
      "execution_count": 18,
      "metadata": {
        "id": "KZnbSuqGtiF1"
      },
      "outputs": [],
      "source": [
        ""
      ]
    },
    {
      "cell_type": "code",
      "execution_count": 19,
      "metadata": {
        "colab": {
          "base_uri": "https://localhost:8080/"
        },
        "id": "85utiSAytiF2",
        "outputId": "ca43f2ec-750d-43f5-e267-bee77b1a7a09"
      },
      "outputs": [
        {
          "output_type": "stream",
          "name": "stdout",
          "text": [
            "SRCNN(\n",
            "  (conv1): Conv2d(1, 64, kernel_size=(3, 3), stride=(1, 1), padding=(1, 1), bias=False)\n",
            "  (conv2): Conv2d(64, 64, kernel_size=(3, 3), stride=(1, 1), padding=(1, 1), bias=False)\n",
            "  (conv3): Conv2d(64, 64, kernel_size=(3, 3), stride=(1, 1), padding=(1, 1), bias=False)\n",
            "  (conv4): Conv2d(64, 1, kernel_size=(3, 3), stride=(1, 1), padding=(1, 1), bias=False)\n",
            "  (pool): MaxPool2d(kernel_size=(1, 3), stride=(1, 3), padding=0, dilation=1, ceil_mode=False)\n",
            "  (relu): ReLU(inplace=True)\n",
            ")\n"
          ]
        }
      ],
      "source": [
        "class SRCNN(nn.Module):\n",
        "    def __init__(self, num_channels=1):\n",
        "        super(SRCNN, self).__init__()\n",
        "        self.conv1 = nn.Conv2d(num_channels, 64, kernel_size=3, padding=3 // 2,bias=False)\n",
        "        self.conv2 = nn.Conv2d(64, 64, kernel_size=3, padding=3 // 2,bias=False)\n",
        "        self.conv3 = nn.Conv2d(64, 64, kernel_size=3, padding=3 // 2,bias=False)\n",
        "        self.conv4 = nn.Conv2d(64, num_channels, kernel_size=3, padding=3 // 2,bias=False)\n",
        "        self.pool = nn.MaxPool2d((1,3))\n",
        "        self.relu = nn.ReLU(inplace=True)\n",
        "\n",
        "    def forward(self, x):\n",
        "        x = self.relu(self.conv1(x))\n",
        "        x = self.relu(self.conv2(x))\n",
        "        x = self.relu(self.conv3(x))\n",
        "        x = self.conv4(x)\n",
        "        return x\n",
        "model = SRCNN()\n",
        "print(model)"
      ]
    },
    {
      "cell_type": "code",
      "execution_count": 20,
      "metadata": {
        "id": "Dzo4zK3ptiF3"
      },
      "outputs": [],
      "source": [
        "\n",
        "class depthwise_separable_conv(nn.Module):\n",
        "    def __init__(self, nin, nout, kernel_size, padding, bias=False):\n",
        "        super(depthwise_separable_conv, self).__init__()\n",
        "        self.depthwise = nn.Conv2d(nin, nin, kernel_size=kernel_size, padding=padding, groups=nin, bias=bias)\n",
        "        self.pointwise = nn.Conv2d(nin, nout, kernel_size=1, bias=bias)\n",
        "\n",
        "    def forward(self, x):\n",
        "        out = self.depthwise(x)\n",
        "        out = self.pointwise(out)\n",
        "        return out"
      ]
    },
    {
      "cell_type": "code",
      "execution_count": 21,
      "metadata": {
        "colab": {
          "base_uri": "https://localhost:8080/"
        },
        "id": "WSjWqmXutiF3",
        "outputId": "aa2f4eb2-8022-4487-b02b-843ae34384cb"
      },
      "outputs": [
        {
          "output_type": "execute_result",
          "data": {
            "text/plain": [
              "depthwise_separable_conv(\n",
              "  (depthwise): Conv2d(64, 64, kernel_size=(3, 3), stride=(1, 1), padding=(1, 1), groups=64, bias=False)\n",
              "  (pointwise): Conv2d(64, 128, kernel_size=(1, 1), stride=(1, 1), bias=False)\n",
              ")"
            ]
          },
          "metadata": {},
          "execution_count": 21
        }
      ],
      "source": [
        "depthwise_separable_conv(64, 128, 3, 1)"
      ]
    },
    {
      "cell_type": "code",
      "execution_count": 22,
      "metadata": {
        "colab": {
          "base_uri": "https://localhost:8080/"
        },
        "id": "x2MdCHJxtiF4",
        "outputId": "acad82eb-293e-427c-c657-c4dd52563510"
      },
      "outputs": [
        {
          "output_type": "stream",
          "name": "stdout",
          "text": [
            "SRCNN(\n",
            "  (conv1): Conv2d(1, 64, kernel_size=(9, 9), stride=(1, 1), padding=(4, 4), bias=False)\n",
            "  (prelu1): PReLU(num_parameters=1)\n",
            "  (conv2): depthwise_separable_conv(\n",
            "    (depthwise): Conv2d(64, 64, kernel_size=(5, 5), stride=(1, 1), padding=(2, 2), groups=64, bias=False)\n",
            "    (pointwise): Conv2d(64, 64, kernel_size=(1, 1), stride=(1, 1), bias=False)\n",
            "  )\n",
            "  (prelu2): PReLU(num_parameters=1)\n",
            "  (conv3): Conv2d(64, 64, kernel_size=(5, 5), stride=(1, 1), padding=(2, 2), bias=False)\n",
            "  (prelu3): PReLU(num_parameters=1)\n",
            "  (conv4): Conv2d(64, 64, kernel_size=(5, 5), stride=(1, 1), padding=(2, 2), bias=False)\n",
            "  (prelu4): PReLU(num_parameters=1)\n",
            "  (conv5): Conv2d(64, 32, kernel_size=(5, 5), stride=(1, 1), padding=(2, 2), bias=False)\n",
            "  (prelu5): PReLU(num_parameters=1)\n",
            "  (conv6): Conv2d(32, 1, kernel_size=(5, 5), stride=(1, 1), padding=(2, 2), bias=False)\n",
            "  (prelu6): PReLU(num_parameters=1)\n",
            "  (pool): MaxPool2d(kernel_size=(1, 1), stride=(1, 1), padding=0, dilation=1, ceil_mode=False)\n",
            ")\n"
          ]
        }
      ],
      "source": [
        "#https://github.com/yjn870/SRCNN-pytorch\n",
        "from torch import nn\n",
        "\n",
        "\n",
        "class SRCNN(nn.Module):\n",
        "    def __init__(self, d=32,num_channels=1):\n",
        "        super(SRCNN, self).__init__()\n",
        "        self.conv1 = nn.Conv2d(num_channels, 64, kernel_size=9, padding=9 // 2,bias=False)\n",
        "        self.prelu1 = nn.PReLU()\n",
        "        #self.conv2 = nn.Conv2d(64, 64, kernel_size=5, padding=5 // 2,bias=False)\n",
        "        self.conv2 = depthwise_separable_conv(64, 64, kernel_size=5, padding=5 // 2,bias=False)\n",
        "        self.prelu2 = nn.PReLU()\n",
        "        self.conv3 = nn.Conv2d(64, 64, kernel_size=5, padding=5 // 2,bias=False)\n",
        "        self.prelu3 = nn.PReLU()\n",
        "        self.conv4 = nn.Conv2d(64, 64, kernel_size=5, padding=5 // 2,bias=False)\n",
        "        self.prelu4 = nn.PReLU()\n",
        "        self.conv5 = nn.Conv2d(64, 32, kernel_size=5, padding=5 // 2,bias=False)\n",
        "        self.prelu5 = nn.PReLU()\n",
        "        self.conv6 = nn.Conv2d(32, num_channels, kernel_size=5, padding=5 // 2,bias=False)\n",
        "        self.prelu6 = nn.PReLU()\n",
        "        self.pool = nn.MaxPool2d((1,1))\n",
        "\n",
        "    def forward(self, x):\n",
        "        x = self.prelu1(self.conv1(x))\n",
        "        x = self.prelu2(self.conv2(x))\n",
        "        x = self.prelu3(self.conv3(x))\n",
        "        x = self.prelu4(self.conv4(x))\n",
        "        x = self.prelu5(self.conv5(x))\n",
        "        x = self.prelu6(self.conv6(x))\n",
        "        x = self.pool(x)\n",
        "        return x\n",
        "model = SRCNN()\n",
        "print(model)"
      ]
    },
    {
      "cell_type": "code",
      "execution_count": 23,
      "metadata": {
        "colab": {
          "base_uri": "https://localhost:8080/"
        },
        "id": "iptISi0UtiF5",
        "outputId": "1ef7ae0a-8fda-455f-9295-a1ebccdb3b56"
      },
      "outputs": [
        {
          "output_type": "stream",
          "name": "stdout",
          "text": [
            "----------------------------------------------------------------------------------\n",
            "                 Layer (type)        Output Shape         Param #     Tr. Param #\n",
            "==================================================================================\n",
            "                     Conv2d-1     [1, 64, 28, 28]           5,184           5,184\n",
            "                      PReLU-2     [1, 64, 28, 28]               1               1\n",
            "   depthwise_separable_conv-3     [1, 64, 28, 28]           5,696           5,696\n",
            "                      PReLU-4     [1, 64, 28, 28]               1               1\n",
            "                     Conv2d-5     [1, 64, 28, 28]         102,400         102,400\n",
            "                      PReLU-6     [1, 64, 28, 28]               1               1\n",
            "                     Conv2d-7     [1, 64, 28, 28]         102,400         102,400\n",
            "                      PReLU-8     [1, 64, 28, 28]               1               1\n",
            "                     Conv2d-9     [1, 32, 28, 28]          51,200          51,200\n",
            "                     PReLU-10     [1, 32, 28, 28]               1               1\n",
            "                    Conv2d-11      [1, 1, 28, 28]             800             800\n",
            "                     PReLU-12      [1, 1, 28, 28]               1               1\n",
            "                 MaxPool2d-13      [1, 1, 28, 28]               0               0\n",
            "==================================================================================\n",
            "Total params: 267,686\n",
            "Trainable params: 267,686\n",
            "Non-trainable params: 0\n",
            "----------------------------------------------------------------------------------\n",
            "\n",
            "\n",
            "================================================= Hierarchical Summary =================================================\n",
            "\n",
            "SRCNN(\n",
            "  (conv1): Conv2d(1, 64, kernel_size=(9, 9), stride=(1, 1), padding=(4, 4), bias=False), 5,184 params\n",
            "  (prelu1): PReLU(num_parameters=1), 1 params\n",
            "  (conv2): depthwise_separable_conv(\n",
            "    (depthwise): Conv2d(64, 64, kernel_size=(5, 5), stride=(1, 1), padding=(2, 2), groups=64, bias=False), 1,600 params\n",
            "    (pointwise): Conv2d(64, 64, kernel_size=(1, 1), stride=(1, 1), bias=False), 4,096 params\n",
            "  ), 5,696 params\n",
            "  (prelu2): PReLU(num_parameters=1), 1 params\n",
            "  (conv3): Conv2d(64, 64, kernel_size=(5, 5), stride=(1, 1), padding=(2, 2), bias=False), 102,400 params\n",
            "  (prelu3): PReLU(num_parameters=1), 1 params\n",
            "  (conv4): Conv2d(64, 64, kernel_size=(5, 5), stride=(1, 1), padding=(2, 2), bias=False), 102,400 params\n",
            "  (prelu4): PReLU(num_parameters=1), 1 params\n",
            "  (conv5): Conv2d(64, 32, kernel_size=(5, 5), stride=(1, 1), padding=(2, 2), bias=False), 51,200 params\n",
            "  (prelu5): PReLU(num_parameters=1), 1 params\n",
            "  (conv6): Conv2d(32, 1, kernel_size=(5, 5), stride=(1, 1), padding=(2, 2), bias=False), 800 params\n",
            "  (prelu6): PReLU(num_parameters=1), 1 params\n",
            "  (pool): MaxPool2d(kernel_size=(1, 1), stride=(1, 1), padding=0, dilation=1, ceil_mode=False), 0 params\n",
            "), 267,686 params\n",
            "\n",
            "\n",
            "========================================================================================================================\n",
            "\n"
          ]
        }
      ],
      "source": [
        "# show output shape and hierarchical view of net\n",
        "from pytorch_model_summary import summary\n",
        "print(summary(SRCNN(), torch.zeros((1, 1, 28, 28)), show_input=False, show_hierarchical=True))"
      ]
    },
    {
      "cell_type": "code",
      "execution_count": 24,
      "metadata": {
        "colab": {
          "base_uri": "https://localhost:8080/"
        },
        "id": "acYKHvYItiF6",
        "outputId": "870edc47-38fc-48f7-8b9d-20049fffb86d"
      },
      "outputs": [
        {
          "output_type": "stream",
          "name": "stdout",
          "text": [
            "----------------------------------------------------------------------------------\n",
            "                 Layer (type)         Input Shape         Param #     Tr. Param #\n",
            "==================================================================================\n",
            "                     Conv2d-1      [1, 1, 28, 28]           5,184           5,184\n",
            "                      PReLU-2     [1, 64, 28, 28]               1               1\n",
            "   depthwise_separable_conv-3     [1, 64, 28, 28]           5,696           5,696\n",
            "                      PReLU-4     [1, 64, 28, 28]               1               1\n",
            "                     Conv2d-5     [1, 64, 28, 28]         102,400         102,400\n",
            "                      PReLU-6     [1, 64, 28, 28]               1               1\n",
            "                     Conv2d-7     [1, 64, 28, 28]         102,400         102,400\n",
            "                      PReLU-8     [1, 64, 28, 28]               1               1\n",
            "                     Conv2d-9     [1, 64, 28, 28]          51,200          51,200\n",
            "                     PReLU-10     [1, 32, 28, 28]               1               1\n",
            "                    Conv2d-11     [1, 32, 28, 28]             800             800\n",
            "                     PReLU-12      [1, 1, 28, 28]               1               1\n",
            "                 MaxPool2d-13      [1, 1, 28, 28]               0               0\n",
            "==================================================================================\n",
            "Total params: 267,686\n",
            "Trainable params: 267,686\n",
            "Non-trainable params: 0\n",
            "----------------------------------------------------------------------------------\n",
            "\n",
            "\n",
            "================================================= Hierarchical Summary =================================================\n",
            "\n",
            "SRCNN(\n",
            "  (conv1): Conv2d(1, 64, kernel_size=(9, 9), stride=(1, 1), padding=(4, 4), bias=False), 5,184 params\n",
            "  (prelu1): PReLU(num_parameters=1), 1 params\n",
            "  (conv2): depthwise_separable_conv(\n",
            "    (depthwise): Conv2d(64, 64, kernel_size=(5, 5), stride=(1, 1), padding=(2, 2), groups=64, bias=False), 1,600 params\n",
            "    (pointwise): Conv2d(64, 64, kernel_size=(1, 1), stride=(1, 1), bias=False), 4,096 params\n",
            "  ), 5,696 params\n",
            "  (prelu2): PReLU(num_parameters=1), 1 params\n",
            "  (conv3): Conv2d(64, 64, kernel_size=(5, 5), stride=(1, 1), padding=(2, 2), bias=False), 102,400 params\n",
            "  (prelu3): PReLU(num_parameters=1), 1 params\n",
            "  (conv4): Conv2d(64, 64, kernel_size=(5, 5), stride=(1, 1), padding=(2, 2), bias=False), 102,400 params\n",
            "  (prelu4): PReLU(num_parameters=1), 1 params\n",
            "  (conv5): Conv2d(64, 32, kernel_size=(5, 5), stride=(1, 1), padding=(2, 2), bias=False), 51,200 params\n",
            "  (prelu5): PReLU(num_parameters=1), 1 params\n",
            "  (conv6): Conv2d(32, 1, kernel_size=(5, 5), stride=(1, 1), padding=(2, 2), bias=False), 800 params\n",
            "  (prelu6): PReLU(num_parameters=1), 1 params\n",
            "  (pool): MaxPool2d(kernel_size=(1, 1), stride=(1, 1), padding=0, dilation=1, ceil_mode=False), 0 params\n",
            "), 267,686 params\n",
            "\n",
            "\n",
            "========================================================================================================================\n",
            "\n"
          ]
        }
      ],
      "source": [
        "# show output shape and hierarchical view of net\n",
        "from pytorch_model_summary import summary\n",
        "print(summary(SRCNN(), torch.zeros((1, 1, 28, 28)), show_input=True, show_hierarchical=True))"
      ]
    },
    {
      "cell_type": "code",
      "execution_count": 25,
      "metadata": {
        "colab": {
          "base_uri": "https://localhost:8080/"
        },
        "id": "CJ-jST6EtiF7",
        "outputId": "12d418c7-e624-4b56-b76a-df378a8b98d7"
      },
      "outputs": [
        {
          "output_type": "stream",
          "name": "stdout",
          "text": [
            "+------------------------+------------+\n",
            "|        Modules         | Parameters |\n",
            "+------------------------+------------+\n",
            "|      conv1.weight      |    5184    |\n",
            "|     prelu1.weight      |     1      |\n",
            "| conv2.depthwise.weight |    1600    |\n",
            "| conv2.pointwise.weight |    4096    |\n",
            "|     prelu2.weight      |     1      |\n",
            "|      conv3.weight      |   102400   |\n",
            "|     prelu3.weight      |     1      |\n",
            "|      conv4.weight      |   102400   |\n",
            "|     prelu4.weight      |     1      |\n",
            "|      conv5.weight      |   51200    |\n",
            "|     prelu5.weight      |     1      |\n",
            "|      conv6.weight      |    800     |\n",
            "|     prelu6.weight      |     1      |\n",
            "+------------------------+------------+\n",
            "Total Trainable Params: 267686\n"
          ]
        },
        {
          "output_type": "execute_result",
          "data": {
            "text/plain": [
              "267686"
            ]
          },
          "metadata": {},
          "execution_count": 25
        }
      ],
      "source": [
        "from prettytable import PrettyTable\n",
        "\n",
        "def count_parameters(model):\n",
        "    table = PrettyTable([\"Modules\", \"Parameters\"])\n",
        "    total_params = 0\n",
        "    for name, parameter in model.named_parameters():\n",
        "        if not parameter.requires_grad: continue\n",
        "        param = parameter.numel()\n",
        "        table.add_row([name, param])\n",
        "        total_params+=param\n",
        "    print(table)\n",
        "    print(f\"Total Trainable Params: {total_params}\")\n",
        "    return total_params\n",
        "    \n",
        "count_parameters(model)"
      ]
    },
    {
      "cell_type": "code",
      "execution_count": 26,
      "metadata": {
        "colab": {
          "base_uri": "https://localhost:8080/",
          "height": 795
        },
        "id": "YJd-EhXxtiF8",
        "outputId": "7f556ce9-89f6-4fb8-fd88-5a167d438cf4"
      },
      "outputs": [
        {
          "output_type": "execute_result",
          "data": {
            "text/plain": [
              "<graphviz.dot.Digraph at 0x7f217ed06490>"
            ],
            "image/svg+xml": "<?xml version=\"1.0\" encoding=\"UTF-8\" standalone=\"no\"?>\n<!DOCTYPE svg PUBLIC \"-//W3C//DTD SVG 1.1//EN\"\n \"http://www.w3.org/Graphics/SVG/1.1/DTD/svg11.dtd\">\n<!-- Generated by graphviz version 2.40.1 (20161225.0304)\n -->\n<!-- Title: %3 Pages: 1 -->\n<svg width=\"896pt\" height=\"581pt\"\n viewBox=\"0.00 0.00 896.00 580.53\" xmlns=\"http://www.w3.org/2000/svg\" xmlns:xlink=\"http://www.w3.org/1999/xlink\">\n<g id=\"graph0\" class=\"graph\" transform=\"scale(.5197 .5197) rotate(0) translate(4 1113)\">\n<title>%3</title>\n<polygon fill=\"#ffffff\" stroke=\"transparent\" points=\"-4,4 -4,-1113 1720,-1113 1720,4 -4,4\"/>\n<!-- 139781835849456 -->\n<g id=\"node1\" class=\"node\">\n<title>139781835849456</title>\n<polygon fill=\"#caff70\" stroke=\"#000000\" points=\"1614.5,-31 1560.5,-31 1560.5,0 1614.5,0 1614.5,-31\"/>\n<text text-anchor=\"middle\" x=\"1587.5\" y=\"-7\" font-family=\"monospace\" font-size=\"10.00\" fill=\"#000000\"> ()</text>\n</g>\n<!-- 139781838237392 -->\n<g id=\"node2\" class=\"node\">\n<title>139781838237392</title>\n<polygon fill=\"#d3d3d3\" stroke=\"#000000\" points=\"1635,-86 1540,-86 1540,-67 1635,-67 1635,-86\"/>\n<text text-anchor=\"middle\" x=\"1587.5\" y=\"-74\" font-family=\"monospace\" font-size=\"10.00\" fill=\"#000000\">MeanBackward0</text>\n</g>\n<!-- 139781838237392&#45;&gt;139781835849456 -->\n<g id=\"edge41\" class=\"edge\">\n<title>139781838237392&#45;&gt;139781835849456</title>\n<path fill=\"none\" stroke=\"#000000\" d=\"M1587.5,-66.9688C1587.5,-60.1289 1587.5,-50.5621 1587.5,-41.5298\"/>\n<polygon fill=\"#000000\" stroke=\"#000000\" points=\"1591.0001,-41.3678 1587.5,-31.3678 1584.0001,-41.3678 1591.0001,-41.3678\"/>\n</g>\n<!-- 139781838234832 -->\n<g id=\"node3\" class=\"node\">\n<title>139781838234832</title>\n<polygon fill=\"#d3d3d3\" stroke=\"#000000\" points=\"1683,-141 1492,-141 1492,-122 1683,-122 1683,-141\"/>\n<text text-anchor=\"middle\" x=\"1587.5\" y=\"-129\" font-family=\"monospace\" font-size=\"10.00\" fill=\"#000000\">MaxPool2DWithIndicesBackward0</text>\n</g>\n<!-- 139781838234832&#45;&gt;139781838237392 -->\n<g id=\"edge1\" class=\"edge\">\n<title>139781838234832&#45;&gt;139781838237392</title>\n<path fill=\"none\" stroke=\"#000000\" d=\"M1587.5,-121.9197C1587.5,-114.9083 1587.5,-105.1442 1587.5,-96.4652\"/>\n<polygon fill=\"#000000\" stroke=\"#000000\" points=\"1591.0001,-96.3408 1587.5,-86.3408 1584.0001,-96.3409 1591.0001,-96.3408\"/>\n</g>\n<!-- 139781850056464 -->\n<g id=\"node4\" class=\"node\">\n<title>139781850056464</title>\n<polygon fill=\"#d3d3d3\" stroke=\"#000000\" points=\"1638,-196 1537,-196 1537,-177 1638,-177 1638,-196\"/>\n<text text-anchor=\"middle\" x=\"1587.5\" y=\"-184\" font-family=\"monospace\" font-size=\"10.00\" fill=\"#000000\">PreluBackward0</text>\n</g>\n<!-- 139781850056464&#45;&gt;139781838234832 -->\n<g id=\"edge2\" class=\"edge\">\n<title>139781850056464&#45;&gt;139781838234832</title>\n<path fill=\"none\" stroke=\"#000000\" d=\"M1587.5,-176.9197C1587.5,-169.9083 1587.5,-160.1442 1587.5,-151.4652\"/>\n<polygon fill=\"#000000\" stroke=\"#000000\" points=\"1591.0001,-151.3408 1587.5,-141.3408 1584.0001,-151.3409 1591.0001,-151.3408\"/>\n</g>\n<!-- 139781850055632 -->\n<g id=\"node5\" class=\"node\">\n<title>139781850055632</title>\n<polygon fill=\"#d3d3d3\" stroke=\"#000000\" points=\"1597,-251 1424,-251 1424,-232 1597,-232 1597,-251\"/>\n<text text-anchor=\"middle\" x=\"1510.5\" y=\"-239\" font-family=\"monospace\" font-size=\"10.00\" fill=\"#000000\">MkldnnConvolutionBackward0</text>\n</g>\n<!-- 139781850055632&#45;&gt;139781850056464 -->\n<g id=\"edge3\" class=\"edge\">\n<title>139781850055632&#45;&gt;139781850056464</title>\n<path fill=\"none\" stroke=\"#000000\" d=\"M1523.9124,-231.9197C1535.435,-223.6893 1552.268,-211.6657 1565.7206,-202.0567\"/>\n<polygon fill=\"#000000\" stroke=\"#000000\" points=\"1567.88,-204.8155 1573.983,-196.155 1563.8113,-199.1194 1567.88,-204.8155\"/>\n</g>\n<!-- 139781850055376 -->\n<g id=\"node6\" class=\"node\">\n<title>139781850055376</title>\n<polygon fill=\"#d3d3d3\" stroke=\"#000000\" points=\"1462,-311.5 1361,-311.5 1361,-292.5 1462,-292.5 1462,-311.5\"/>\n<text text-anchor=\"middle\" x=\"1411.5\" y=\"-299.5\" font-family=\"monospace\" font-size=\"10.00\" fill=\"#000000\">PreluBackward0</text>\n</g>\n<!-- 139781850055376&#45;&gt;139781850055632 -->\n<g id=\"edge4\" class=\"edge\">\n<title>139781850055376&#45;&gt;139781850055632</title>\n<path fill=\"none\" stroke=\"#000000\" d=\"M1427.4061,-292.2796C1443.2104,-282.6214 1467.6655,-267.6766 1485.9599,-256.4967\"/>\n<polygon fill=\"#000000\" stroke=\"#000000\" points=\"1487.9257,-259.3973 1494.6334,-251.1962 1484.2755,-253.4243 1487.9257,-259.3973\"/>\n</g>\n<!-- 139781852037584 -->\n<g id=\"node7\" class=\"node\">\n<title>139781852037584</title>\n<polygon fill=\"#d3d3d3\" stroke=\"#000000\" points=\"1343,-377.5 1170,-377.5 1170,-358.5 1343,-358.5 1343,-377.5\"/>\n<text text-anchor=\"middle\" x=\"1256.5\" y=\"-365.5\" font-family=\"monospace\" font-size=\"10.00\" fill=\"#000000\">MkldnnConvolutionBackward0</text>\n</g>\n<!-- 139781852037584&#45;&gt;139781850055376 -->\n<g id=\"edge5\" class=\"edge\">\n<title>139781852037584&#45;&gt;139781850055376</title>\n<path fill=\"none\" stroke=\"#000000\" d=\"M1279.0383,-358.403C1305.5161,-347.1286 1349.6279,-328.3455 1379.6069,-315.5803\"/>\n<polygon fill=\"#000000\" stroke=\"#000000\" points=\"1381.3565,-318.6394 1389.1859,-311.5015 1378.6141,-312.199 1381.3565,-318.6394\"/>\n</g>\n<!-- 139781905244560 -->\n<g id=\"node8\" class=\"node\">\n<title>139781905244560</title>\n<polygon fill=\"#d3d3d3\" stroke=\"#000000\" points=\"1207,-443.5 1106,-443.5 1106,-424.5 1207,-424.5 1207,-443.5\"/>\n<text text-anchor=\"middle\" x=\"1156.5\" y=\"-431.5\" font-family=\"monospace\" font-size=\"10.00\" fill=\"#000000\">PreluBackward0</text>\n</g>\n<!-- 139781905244560&#45;&gt;139781852037584 -->\n<g id=\"edge6\" class=\"edge\">\n<title>139781905244560&#45;&gt;139781852037584</title>\n<path fill=\"none\" stroke=\"#000000\" d=\"M1171.2553,-424.2615C1187.6709,-413.4272 1214.3988,-395.7868 1233.5509,-383.1464\"/>\n<polygon fill=\"#000000\" stroke=\"#000000\" points=\"1235.5911,-385.9935 1242.0092,-377.5639 1231.7352,-380.1512 1235.5911,-385.9935\"/>\n</g>\n<!-- 139781849580304 -->\n<g id=\"node9\" class=\"node\">\n<title>139781849580304</title>\n<polygon fill=\"#d3d3d3\" stroke=\"#000000\" points=\"1088,-509.5 915,-509.5 915,-490.5 1088,-490.5 1088,-509.5\"/>\n<text text-anchor=\"middle\" x=\"1001.5\" y=\"-497.5\" font-family=\"monospace\" font-size=\"10.00\" fill=\"#000000\">MkldnnConvolutionBackward0</text>\n</g>\n<!-- 139781849580304&#45;&gt;139781905244560 -->\n<g id=\"edge7\" class=\"edge\">\n<title>139781849580304&#45;&gt;139781905244560</title>\n<path fill=\"none\" stroke=\"#000000\" d=\"M1024.0383,-490.403C1050.5161,-479.1286 1094.6279,-460.3455 1124.6069,-447.5803\"/>\n<polygon fill=\"#000000\" stroke=\"#000000\" points=\"1126.3565,-450.6394 1134.1859,-443.5015 1123.6141,-444.199 1126.3565,-450.6394\"/>\n</g>\n<!-- 139781849581520 -->\n<g id=\"node10\" class=\"node\">\n<title>139781849581520</title>\n<polygon fill=\"#d3d3d3\" stroke=\"#000000\" points=\"952,-575.5 851,-575.5 851,-556.5 952,-556.5 952,-575.5\"/>\n<text text-anchor=\"middle\" x=\"901.5\" y=\"-563.5\" font-family=\"monospace\" font-size=\"10.00\" fill=\"#000000\">PreluBackward0</text>\n</g>\n<!-- 139781849581520&#45;&gt;139781849580304 -->\n<g id=\"edge8\" class=\"edge\">\n<title>139781849581520&#45;&gt;139781849580304</title>\n<path fill=\"none\" stroke=\"#000000\" d=\"M916.2553,-556.2615C932.6709,-545.4272 959.3988,-527.7868 978.5509,-515.1464\"/>\n<polygon fill=\"#000000\" stroke=\"#000000\" points=\"980.5911,-517.9935 987.0092,-509.5639 976.7352,-512.1512 980.5911,-517.9935\"/>\n</g>\n<!-- 139781849582864 -->\n<g id=\"node11\" class=\"node\">\n<title>139781849582864</title>\n<polygon fill=\"#d3d3d3\" stroke=\"#000000\" points=\"833,-641.5 660,-641.5 660,-622.5 833,-622.5 833,-641.5\"/>\n<text text-anchor=\"middle\" x=\"746.5\" y=\"-629.5\" font-family=\"monospace\" font-size=\"10.00\" fill=\"#000000\">MkldnnConvolutionBackward0</text>\n</g>\n<!-- 139781849582864&#45;&gt;139781849581520 -->\n<g id=\"edge9\" class=\"edge\">\n<title>139781849582864&#45;&gt;139781849581520</title>\n<path fill=\"none\" stroke=\"#000000\" d=\"M769.0383,-622.403C795.5161,-611.1286 839.6279,-592.3455 869.6069,-579.5803\"/>\n<polygon fill=\"#000000\" stroke=\"#000000\" points=\"871.3565,-582.6394 879.1859,-575.5015 868.6141,-576.199 871.3565,-582.6394\"/>\n</g>\n<!-- 139781849579856 -->\n<g id=\"node12\" class=\"node\">\n<title>139781849579856</title>\n<polygon fill=\"#d3d3d3\" stroke=\"#000000\" points=\"697,-707.5 596,-707.5 596,-688.5 697,-688.5 697,-707.5\"/>\n<text text-anchor=\"middle\" x=\"646.5\" y=\"-695.5\" font-family=\"monospace\" font-size=\"10.00\" fill=\"#000000\">PreluBackward0</text>\n</g>\n<!-- 139781849579856&#45;&gt;139781849582864 -->\n<g id=\"edge10\" class=\"edge\">\n<title>139781849579856&#45;&gt;139781849582864</title>\n<path fill=\"none\" stroke=\"#000000\" d=\"M661.2553,-688.2615C677.6709,-677.4272 704.3988,-659.7868 723.5509,-647.1464\"/>\n<polygon fill=\"#000000\" stroke=\"#000000\" points=\"725.5911,-649.9935 732.0092,-641.5639 721.7352,-644.1512 725.5911,-649.9935\"/>\n</g>\n<!-- 139781849582992 -->\n<g id=\"node13\" class=\"node\">\n<title>139781849582992</title>\n<polygon fill=\"#d3d3d3\" stroke=\"#000000\" points=\"578,-773.5 447,-773.5 447,-754.5 578,-754.5 578,-773.5\"/>\n<text text-anchor=\"middle\" x=\"512.5\" y=\"-761.5\" font-family=\"monospace\" font-size=\"10.00\" fill=\"#000000\">ThnnConv2DBackward0</text>\n</g>\n<!-- 139781849582992&#45;&gt;139781849579856 -->\n<g id=\"edge11\" class=\"edge\">\n<title>139781849582992&#45;&gt;139781849579856</title>\n<path fill=\"none\" stroke=\"#000000\" d=\"M531.9848,-754.403C554.5123,-743.3074 591.8051,-724.9393 617.686,-712.192\"/>\n<polygon fill=\"#000000\" stroke=\"#000000\" points=\"619.5673,-715.1669 626.9917,-707.6085 616.4743,-708.8873 619.5673,-715.1669\"/>\n</g>\n<!-- 139781849734096 -->\n<g id=\"node14\" class=\"node\">\n<title>139781849734096</title>\n<polygon fill=\"#d3d3d3\" stroke=\"#000000\" points=\"453,-839.5 280,-839.5 280,-820.5 453,-820.5 453,-839.5\"/>\n<text text-anchor=\"middle\" x=\"366.5\" y=\"-827.5\" font-family=\"monospace\" font-size=\"10.00\" fill=\"#000000\">MkldnnConvolutionBackward0</text>\n</g>\n<!-- 139781849734096&#45;&gt;139781849582992 -->\n<g id=\"edge12\" class=\"edge\">\n<title>139781849734096&#45;&gt;139781849582992</title>\n<path fill=\"none\" stroke=\"#000000\" d=\"M387.7297,-820.403C412.4908,-809.2096 453.6243,-790.615 481.848,-777.8564\"/>\n<polygon fill=\"#000000\" stroke=\"#000000\" points=\"483.5743,-780.9171 491.2447,-773.6085 480.6908,-774.5385 483.5743,-780.9171\"/>\n</g>\n<!-- 139781849731152 -->\n<g id=\"node15\" class=\"node\">\n<title>139781849731152</title>\n<polygon fill=\"#d3d3d3\" stroke=\"#000000\" points=\"292,-905.5 191,-905.5 191,-886.5 292,-886.5 292,-905.5\"/>\n<text text-anchor=\"middle\" x=\"241.5\" y=\"-893.5\" font-family=\"monospace\" font-size=\"10.00\" fill=\"#000000\">PreluBackward0</text>\n</g>\n<!-- 139781849731152&#45;&gt;139781849734096 -->\n<g id=\"edge13\" class=\"edge\">\n<title>139781849731152&#45;&gt;139781849734096</title>\n<path fill=\"none\" stroke=\"#000000\" d=\"M259.6761,-886.403C280.598,-875.3563 315.1724,-857.101 339.3016,-844.3608\"/>\n<polygon fill=\"#000000\" stroke=\"#000000\" points=\"341.0932,-847.3728 348.302,-839.6085 337.8247,-841.1827 341.0932,-847.3728\"/>\n</g>\n<!-- 139781849731664 -->\n<g id=\"node16\" class=\"node\">\n<title>139781849731664</title>\n<polygon fill=\"#d3d3d3\" stroke=\"#000000\" points=\"173,-971.5 0,-971.5 0,-952.5 173,-952.5 173,-971.5\"/>\n<text text-anchor=\"middle\" x=\"86.5\" y=\"-959.5\" font-family=\"monospace\" font-size=\"10.00\" fill=\"#000000\">MkldnnConvolutionBackward0</text>\n</g>\n<!-- 139781849731664&#45;&gt;139781849731152 -->\n<g id=\"edge14\" class=\"edge\">\n<title>139781849731664&#45;&gt;139781849731152</title>\n<path fill=\"none\" stroke=\"#000000\" d=\"M109.0383,-952.403C135.5161,-941.1286 179.6279,-922.3455 209.6069,-909.5803\"/>\n<polygon fill=\"#000000\" stroke=\"#000000\" points=\"211.3565,-912.6394 219.1859,-905.5015 208.6141,-906.199 211.3565,-912.6394\"/>\n</g>\n<!-- 139781849733904 -->\n<g id=\"node17\" class=\"node\">\n<title>139781849733904</title>\n<polygon fill=\"#d3d3d3\" stroke=\"#000000\" points=\"137,-1037.5 36,-1037.5 36,-1018.5 137,-1018.5 137,-1037.5\"/>\n<text text-anchor=\"middle\" x=\"86.5\" y=\"-1025.5\" font-family=\"monospace\" font-size=\"10.00\" fill=\"#000000\">AccumulateGrad</text>\n</g>\n<!-- 139781849733904&#45;&gt;139781849731664 -->\n<g id=\"edge15\" class=\"edge\">\n<title>139781849733904&#45;&gt;139781849731664</title>\n<path fill=\"none\" stroke=\"#000000\" d=\"M86.5,-1018.2615C86.5,-1008.7077 86.5,-993.8615 86.5,-981.8183\"/>\n<polygon fill=\"#000000\" stroke=\"#000000\" points=\"90.0001,-981.7784 86.5,-971.7785 83.0001,-981.7785 90.0001,-981.7784\"/>\n</g>\n<!-- 139781849693456 -->\n<g id=\"node18\" class=\"node\">\n<title>139781849693456</title>\n<polygon fill=\"#add8e6\" stroke=\"#000000\" points=\"137,-1109 36,-1109 36,-1079 137,-1079 137,-1109\"/>\n<text text-anchor=\"middle\" x=\"86.5\" y=\"-1097\" font-family=\"monospace\" font-size=\"10.00\" fill=\"#000000\">conv1.weight</text>\n<text text-anchor=\"middle\" x=\"86.5\" y=\"-1086\" font-family=\"monospace\" font-size=\"10.00\" fill=\"#000000\"> (64, 1, 9, 9)</text>\n</g>\n<!-- 139781849693456&#45;&gt;139781849733904 -->\n<g id=\"edge16\" class=\"edge\">\n<title>139781849693456&#45;&gt;139781849733904</title>\n<path fill=\"none\" stroke=\"#000000\" d=\"M86.5,-1078.6924C86.5,-1069.5067 86.5,-1057.7245 86.5,-1047.8312\"/>\n<polygon fill=\"#000000\" stroke=\"#000000\" points=\"90.0001,-1047.703 86.5,-1037.7031 83.0001,-1047.7031 90.0001,-1047.703\"/>\n</g>\n<!-- 139781849734352 -->\n<g id=\"node19\" class=\"node\">\n<title>139781849734352</title>\n<polygon fill=\"#d3d3d3\" stroke=\"#000000\" points=\"292,-971.5 191,-971.5 191,-952.5 292,-952.5 292,-971.5\"/>\n<text text-anchor=\"middle\" x=\"241.5\" y=\"-959.5\" font-family=\"monospace\" font-size=\"10.00\" fill=\"#000000\">AccumulateGrad</text>\n</g>\n<!-- 139781849734352&#45;&gt;139781849731152 -->\n<g id=\"edge17\" class=\"edge\">\n<title>139781849734352&#45;&gt;139781849731152</title>\n<path fill=\"none\" stroke=\"#000000\" d=\"M241.5,-952.2615C241.5,-942.7077 241.5,-927.8615 241.5,-915.8183\"/>\n<polygon fill=\"#000000\" stroke=\"#000000\" points=\"245.0001,-915.7784 241.5,-905.7785 238.0001,-915.7785 245.0001,-915.7784\"/>\n</g>\n<!-- 139781850075312 -->\n<g id=\"node20\" class=\"node\">\n<title>139781850075312</title>\n<polygon fill=\"#add8e6\" stroke=\"#000000\" points=\"289,-1043 194,-1043 194,-1013 289,-1013 289,-1043\"/>\n<text text-anchor=\"middle\" x=\"241.5\" y=\"-1031\" font-family=\"monospace\" font-size=\"10.00\" fill=\"#000000\">prelu1.weight</text>\n<text text-anchor=\"middle\" x=\"241.5\" y=\"-1020\" font-family=\"monospace\" font-size=\"10.00\" fill=\"#000000\"> (1)</text>\n</g>\n<!-- 139781850075312&#45;&gt;139781849734352 -->\n<g id=\"edge18\" class=\"edge\">\n<title>139781850075312&#45;&gt;139781849734352</title>\n<path fill=\"none\" stroke=\"#000000\" d=\"M241.5,-1012.6924C241.5,-1003.5067 241.5,-991.7245 241.5,-981.8312\"/>\n<polygon fill=\"#000000\" stroke=\"#000000\" points=\"245.0001,-981.703 241.5,-971.7031 238.0001,-981.7031 245.0001,-981.703\"/>\n</g>\n<!-- 139781849732432 -->\n<g id=\"node21\" class=\"node\">\n<title>139781849732432</title>\n<polygon fill=\"#d3d3d3\" stroke=\"#000000\" points=\"423,-905.5 322,-905.5 322,-886.5 423,-886.5 423,-905.5\"/>\n<text text-anchor=\"middle\" x=\"372.5\" y=\"-893.5\" font-family=\"monospace\" font-size=\"10.00\" fill=\"#000000\">AccumulateGrad</text>\n</g>\n<!-- 139781849732432&#45;&gt;139781849734096 -->\n<g id=\"edge19\" class=\"edge\">\n<title>139781849732432&#45;&gt;139781849734096</title>\n<path fill=\"none\" stroke=\"#000000\" d=\"M371.6147,-886.2615C370.7462,-876.7077 369.3965,-861.8615 368.3017,-849.8183\"/>\n<polygon fill=\"#000000\" stroke=\"#000000\" points=\"371.78,-849.4205 367.389,-839.7785 364.8088,-850.0543 371.78,-849.4205\"/>\n</g>\n<!-- 139781846735280 -->\n<g id=\"node22\" class=\"node\">\n<title>139781846735280</title>\n<polygon fill=\"#add8e6\" stroke=\"#000000\" points=\"459,-977 310,-977 310,-947 459,-947 459,-977\"/>\n<text text-anchor=\"middle\" x=\"384.5\" y=\"-965\" font-family=\"monospace\" font-size=\"10.00\" fill=\"#000000\">conv2.depthwise.weight</text>\n<text text-anchor=\"middle\" x=\"384.5\" y=\"-954\" font-family=\"monospace\" font-size=\"10.00\" fill=\"#000000\"> (64, 1, 5, 5)</text>\n</g>\n<!-- 139781846735280&#45;&gt;139781849732432 -->\n<g id=\"edge20\" class=\"edge\">\n<title>139781846735280&#45;&gt;139781849732432</title>\n<path fill=\"none\" stroke=\"#000000\" d=\"M381.7168,-946.6924C380.0467,-937.5067 377.9044,-925.7245 376.1057,-915.8312\"/>\n<polygon fill=\"#000000\" stroke=\"#000000\" points=\"379.4967,-914.9156 374.2642,-905.7031 372.6096,-916.1679 379.4967,-914.9156\"/>\n</g>\n<!-- 139781849731920 -->\n<g id=\"node23\" class=\"node\">\n<title>139781849731920</title>\n<polygon fill=\"#d3d3d3\" stroke=\"#000000\" points=\"572,-839.5 471,-839.5 471,-820.5 572,-820.5 572,-839.5\"/>\n<text text-anchor=\"middle\" x=\"521.5\" y=\"-827.5\" font-family=\"monospace\" font-size=\"10.00\" fill=\"#000000\">AccumulateGrad</text>\n</g>\n<!-- 139781849731920&#45;&gt;139781849582992 -->\n<g id=\"edge21\" class=\"edge\">\n<title>139781849731920&#45;&gt;139781849582992</title>\n<path fill=\"none\" stroke=\"#000000\" d=\"M520.172,-820.2615C518.8692,-810.7077 516.8448,-795.8615 515.2025,-783.8183\"/>\n<polygon fill=\"#000000\" stroke=\"#000000\" points=\"518.6526,-783.2139 513.8334,-773.7785 511.7167,-784.1597 518.6526,-783.2139\"/>\n</g>\n<!-- 139781838184272 -->\n<g id=\"node24\" class=\"node\">\n<title>139781838184272</title>\n<polygon fill=\"#add8e6\" stroke=\"#000000\" points=\"596,-911 447,-911 447,-881 596,-881 596,-911\"/>\n<text text-anchor=\"middle\" x=\"521.5\" y=\"-899\" font-family=\"monospace\" font-size=\"10.00\" fill=\"#000000\">conv2.pointwise.weight</text>\n<text text-anchor=\"middle\" x=\"521.5\" y=\"-888\" font-family=\"monospace\" font-size=\"10.00\" fill=\"#000000\"> (64, 64, 1, 1)</text>\n</g>\n<!-- 139781838184272&#45;&gt;139781849731920 -->\n<g id=\"edge22\" class=\"edge\">\n<title>139781838184272&#45;&gt;139781849731920</title>\n<path fill=\"none\" stroke=\"#000000\" d=\"M521.5,-880.6924C521.5,-871.5067 521.5,-859.7245 521.5,-849.8312\"/>\n<polygon fill=\"#000000\" stroke=\"#000000\" points=\"525.0001,-849.703 521.5,-839.7031 518.0001,-849.7031 525.0001,-849.703\"/>\n</g>\n<!-- 139781849583504 -->\n<g id=\"node25\" class=\"node\">\n<title>139781849583504</title>\n<polygon fill=\"#d3d3d3\" stroke=\"#000000\" points=\"697,-773.5 596,-773.5 596,-754.5 697,-754.5 697,-773.5\"/>\n<text text-anchor=\"middle\" x=\"646.5\" y=\"-761.5\" font-family=\"monospace\" font-size=\"10.00\" fill=\"#000000\">AccumulateGrad</text>\n</g>\n<!-- 139781849583504&#45;&gt;139781849579856 -->\n<g id=\"edge23\" class=\"edge\">\n<title>139781849583504&#45;&gt;139781849579856</title>\n<path fill=\"none\" stroke=\"#000000\" d=\"M646.5,-754.2615C646.5,-744.7077 646.5,-729.8615 646.5,-717.8183\"/>\n<polygon fill=\"#000000\" stroke=\"#000000\" points=\"650.0001,-717.7784 646.5,-707.7785 643.0001,-717.7785 650.0001,-717.7784\"/>\n</g>\n<!-- 139781838184368 -->\n<g id=\"node26\" class=\"node\">\n<title>139781838184368</title>\n<polygon fill=\"#add8e6\" stroke=\"#000000\" points=\"694,-845 599,-845 599,-815 694,-815 694,-845\"/>\n<text text-anchor=\"middle\" x=\"646.5\" y=\"-833\" font-family=\"monospace\" font-size=\"10.00\" fill=\"#000000\">prelu2.weight</text>\n<text text-anchor=\"middle\" x=\"646.5\" y=\"-822\" font-family=\"monospace\" font-size=\"10.00\" fill=\"#000000\"> (1)</text>\n</g>\n<!-- 139781838184368&#45;&gt;139781849583504 -->\n<g id=\"edge24\" class=\"edge\">\n<title>139781838184368&#45;&gt;139781849583504</title>\n<path fill=\"none\" stroke=\"#000000\" d=\"M646.5,-814.6924C646.5,-805.5067 646.5,-793.7245 646.5,-783.8312\"/>\n<polygon fill=\"#000000\" stroke=\"#000000\" points=\"650.0001,-783.703 646.5,-773.7031 643.0001,-783.7031 650.0001,-783.703\"/>\n</g>\n<!-- 139781849582800 -->\n<g id=\"node27\" class=\"node\">\n<title>139781849582800</title>\n<polygon fill=\"#d3d3d3\" stroke=\"#000000\" points=\"817,-707.5 716,-707.5 716,-688.5 817,-688.5 817,-707.5\"/>\n<text text-anchor=\"middle\" x=\"766.5\" y=\"-695.5\" font-family=\"monospace\" font-size=\"10.00\" fill=\"#000000\">AccumulateGrad</text>\n</g>\n<!-- 139781849582800&#45;&gt;139781849582864 -->\n<g id=\"edge25\" class=\"edge\">\n<title>139781849582800&#45;&gt;139781849582864</title>\n<path fill=\"none\" stroke=\"#000000\" d=\"M763.5489,-688.2615C760.6243,-678.6102 756.063,-663.558 752.3941,-651.4506\"/>\n<polygon fill=\"#000000\" stroke=\"#000000\" points=\"755.7129,-650.3337 749.4632,-641.7785 749.0137,-652.3638 755.7129,-650.3337\"/>\n</g>\n<!-- 139781838241712 -->\n<g id=\"node28\" class=\"node\">\n<title>139781838241712</title>\n<polygon fill=\"#add8e6\" stroke=\"#000000\" points=\"822,-779 715,-779 715,-749 822,-749 822,-779\"/>\n<text text-anchor=\"middle\" x=\"768.5\" y=\"-767\" font-family=\"monospace\" font-size=\"10.00\" fill=\"#000000\">conv3.weight</text>\n<text text-anchor=\"middle\" x=\"768.5\" y=\"-756\" font-family=\"monospace\" font-size=\"10.00\" fill=\"#000000\"> (64, 64, 5, 5)</text>\n</g>\n<!-- 139781838241712&#45;&gt;139781849582800 -->\n<g id=\"edge26\" class=\"edge\">\n<title>139781838241712&#45;&gt;139781849582800</title>\n<path fill=\"none\" stroke=\"#000000\" d=\"M768.0361,-748.6924C767.7578,-739.5067 767.4007,-727.7245 767.1009,-717.8312\"/>\n<polygon fill=\"#000000\" stroke=\"#000000\" points=\"770.5954,-717.5924 766.794,-707.7031 763.5986,-717.8045 770.5954,-717.5924\"/>\n</g>\n<!-- 139781849582352 -->\n<g id=\"node29\" class=\"node\">\n<title>139781849582352</title>\n<polygon fill=\"#d3d3d3\" stroke=\"#000000\" points=\"952,-641.5 851,-641.5 851,-622.5 952,-622.5 952,-641.5\"/>\n<text text-anchor=\"middle\" x=\"901.5\" y=\"-629.5\" font-family=\"monospace\" font-size=\"10.00\" fill=\"#000000\">AccumulateGrad</text>\n</g>\n<!-- 139781849582352&#45;&gt;139781849581520 -->\n<g id=\"edge27\" class=\"edge\">\n<title>139781849582352&#45;&gt;139781849581520</title>\n<path fill=\"none\" stroke=\"#000000\" d=\"M901.5,-622.2615C901.5,-612.7077 901.5,-597.8615 901.5,-585.8183\"/>\n<polygon fill=\"#000000\" stroke=\"#000000\" points=\"905.0001,-585.7784 901.5,-575.7785 898.0001,-585.7785 905.0001,-585.7784\"/>\n</g>\n<!-- 139781838238736 -->\n<g id=\"node30\" class=\"node\">\n<title>139781838238736</title>\n<polygon fill=\"#add8e6\" stroke=\"#000000\" points=\"949,-713 854,-713 854,-683 949,-683 949,-713\"/>\n<text text-anchor=\"middle\" x=\"901.5\" y=\"-701\" font-family=\"monospace\" font-size=\"10.00\" fill=\"#000000\">prelu3.weight</text>\n<text text-anchor=\"middle\" x=\"901.5\" y=\"-690\" font-family=\"monospace\" font-size=\"10.00\" fill=\"#000000\"> (1)</text>\n</g>\n<!-- 139781838238736&#45;&gt;139781849582352 -->\n<g id=\"edge28\" class=\"edge\">\n<title>139781838238736&#45;&gt;139781849582352</title>\n<path fill=\"none\" stroke=\"#000000\" d=\"M901.5,-682.6924C901.5,-673.5067 901.5,-661.7245 901.5,-651.8312\"/>\n<polygon fill=\"#000000\" stroke=\"#000000\" points=\"905.0001,-651.703 901.5,-641.7031 898.0001,-651.7031 905.0001,-651.703\"/>\n</g>\n<!-- 139781849583184 -->\n<g id=\"node31\" class=\"node\">\n<title>139781849583184</title>\n<polygon fill=\"#d3d3d3\" stroke=\"#000000\" points=\"1072,-575.5 971,-575.5 971,-556.5 1072,-556.5 1072,-575.5\"/>\n<text text-anchor=\"middle\" x=\"1021.5\" y=\"-563.5\" font-family=\"monospace\" font-size=\"10.00\" fill=\"#000000\">AccumulateGrad</text>\n</g>\n<!-- 139781849583184&#45;&gt;139781849580304 -->\n<g id=\"edge29\" class=\"edge\">\n<title>139781849583184&#45;&gt;139781849580304</title>\n<path fill=\"none\" stroke=\"#000000\" d=\"M1018.5489,-556.2615C1015.6243,-546.6102 1011.063,-531.558 1007.3941,-519.4506\"/>\n<polygon fill=\"#000000\" stroke=\"#000000\" points=\"1010.7129,-518.3337 1004.4632,-509.7785 1004.0137,-520.3638 1010.7129,-518.3337\"/>\n</g>\n<!-- 139781838238064 -->\n<g id=\"node32\" class=\"node\">\n<title>139781838238064</title>\n<polygon fill=\"#add8e6\" stroke=\"#000000\" points=\"1077,-647 970,-647 970,-617 1077,-617 1077,-647\"/>\n<text text-anchor=\"middle\" x=\"1023.5\" y=\"-635\" font-family=\"monospace\" font-size=\"10.00\" fill=\"#000000\">conv4.weight</text>\n<text text-anchor=\"middle\" x=\"1023.5\" y=\"-624\" font-family=\"monospace\" font-size=\"10.00\" fill=\"#000000\"> (64, 64, 5, 5)</text>\n</g>\n<!-- 139781838238064&#45;&gt;139781849583184 -->\n<g id=\"edge30\" class=\"edge\">\n<title>139781838238064&#45;&gt;139781849583184</title>\n<path fill=\"none\" stroke=\"#000000\" d=\"M1023.0361,-616.6924C1022.7578,-607.5067 1022.4007,-595.7245 1022.1009,-585.8312\"/>\n<polygon fill=\"#000000\" stroke=\"#000000\" points=\"1025.5954,-585.5924 1021.794,-575.7031 1018.5986,-585.8045 1025.5954,-585.5924\"/>\n</g>\n<!-- 139781849582480 -->\n<g id=\"node33\" class=\"node\">\n<title>139781849582480</title>\n<polygon fill=\"#d3d3d3\" stroke=\"#000000\" points=\"1207,-509.5 1106,-509.5 1106,-490.5 1207,-490.5 1207,-509.5\"/>\n<text text-anchor=\"middle\" x=\"1156.5\" y=\"-497.5\" font-family=\"monospace\" font-size=\"10.00\" fill=\"#000000\">AccumulateGrad</text>\n</g>\n<!-- 139781849582480&#45;&gt;139781905244560 -->\n<g id=\"edge31\" class=\"edge\">\n<title>139781849582480&#45;&gt;139781905244560</title>\n<path fill=\"none\" stroke=\"#000000\" d=\"M1156.5,-490.2615C1156.5,-480.7077 1156.5,-465.8615 1156.5,-453.8183\"/>\n<polygon fill=\"#000000\" stroke=\"#000000\" points=\"1160.0001,-453.7784 1156.5,-443.7785 1153.0001,-453.7785 1160.0001,-453.7784\"/>\n</g>\n<!-- 139781838238544 -->\n<g id=\"node34\" class=\"node\">\n<title>139781838238544</title>\n<polygon fill=\"#add8e6\" stroke=\"#000000\" points=\"1204,-581 1109,-581 1109,-551 1204,-551 1204,-581\"/>\n<text text-anchor=\"middle\" x=\"1156.5\" y=\"-569\" font-family=\"monospace\" font-size=\"10.00\" fill=\"#000000\">prelu4.weight</text>\n<text text-anchor=\"middle\" x=\"1156.5\" y=\"-558\" font-family=\"monospace\" font-size=\"10.00\" fill=\"#000000\"> (1)</text>\n</g>\n<!-- 139781838238544&#45;&gt;139781849582480 -->\n<g id=\"edge32\" class=\"edge\">\n<title>139781838238544&#45;&gt;139781849582480</title>\n<path fill=\"none\" stroke=\"#000000\" d=\"M1156.5,-550.6924C1156.5,-541.5067 1156.5,-529.7245 1156.5,-519.8312\"/>\n<polygon fill=\"#000000\" stroke=\"#000000\" points=\"1160.0001,-519.703 1156.5,-509.7031 1153.0001,-519.7031 1160.0001,-519.703\"/>\n</g>\n<!-- 139781849579728 -->\n<g id=\"node35\" class=\"node\">\n<title>139781849579728</title>\n<polygon fill=\"#d3d3d3\" stroke=\"#000000\" points=\"1327,-443.5 1226,-443.5 1226,-424.5 1327,-424.5 1327,-443.5\"/>\n<text text-anchor=\"middle\" x=\"1276.5\" y=\"-431.5\" font-family=\"monospace\" font-size=\"10.00\" fill=\"#000000\">AccumulateGrad</text>\n</g>\n<!-- 139781849579728&#45;&gt;139781852037584 -->\n<g id=\"edge33\" class=\"edge\">\n<title>139781849579728&#45;&gt;139781852037584</title>\n<path fill=\"none\" stroke=\"#000000\" d=\"M1273.5489,-424.2615C1270.6243,-414.6102 1266.063,-399.558 1262.3941,-387.4506\"/>\n<polygon fill=\"#000000\" stroke=\"#000000\" points=\"1265.7129,-386.3337 1259.4632,-377.7785 1259.0137,-388.3638 1265.7129,-386.3337\"/>\n</g>\n<!-- 139781838241040 -->\n<g id=\"node36\" class=\"node\">\n<title>139781838241040</title>\n<polygon fill=\"#add8e6\" stroke=\"#000000\" points=\"1332,-515 1225,-515 1225,-485 1332,-485 1332,-515\"/>\n<text text-anchor=\"middle\" x=\"1278.5\" y=\"-503\" font-family=\"monospace\" font-size=\"10.00\" fill=\"#000000\">conv5.weight</text>\n<text text-anchor=\"middle\" x=\"1278.5\" y=\"-492\" font-family=\"monospace\" font-size=\"10.00\" fill=\"#000000\"> (32, 64, 5, 5)</text>\n</g>\n<!-- 139781838241040&#45;&gt;139781849579728 -->\n<g id=\"edge34\" class=\"edge\">\n<title>139781838241040&#45;&gt;139781849579728</title>\n<path fill=\"none\" stroke=\"#000000\" d=\"M1278.0361,-484.6924C1277.7578,-475.5067 1277.4007,-463.7245 1277.1009,-453.8312\"/>\n<polygon fill=\"#000000\" stroke=\"#000000\" points=\"1280.5954,-453.5924 1276.794,-443.7031 1273.5986,-453.8045 1280.5954,-453.5924\"/>\n</g>\n<!-- 139781850055888 -->\n<g id=\"node37\" class=\"node\">\n<title>139781850055888</title>\n<polygon fill=\"#d3d3d3\" stroke=\"#000000\" points=\"1462,-377.5 1361,-377.5 1361,-358.5 1462,-358.5 1462,-377.5\"/>\n<text text-anchor=\"middle\" x=\"1411.5\" y=\"-365.5\" font-family=\"monospace\" font-size=\"10.00\" fill=\"#000000\">AccumulateGrad</text>\n</g>\n<!-- 139781850055888&#45;&gt;139781850055376 -->\n<g id=\"edge35\" class=\"edge\">\n<title>139781850055888&#45;&gt;139781850055376</title>\n<path fill=\"none\" stroke=\"#000000\" d=\"M1411.5,-358.2615C1411.5,-348.7077 1411.5,-333.8615 1411.5,-321.8183\"/>\n<polygon fill=\"#000000\" stroke=\"#000000\" points=\"1415.0001,-321.7784 1411.5,-311.7785 1408.0001,-321.7785 1415.0001,-321.7784\"/>\n</g>\n<!-- 139781838241616 -->\n<g id=\"node38\" class=\"node\">\n<title>139781838241616</title>\n<polygon fill=\"#add8e6\" stroke=\"#000000\" points=\"1459,-449 1364,-449 1364,-419 1459,-419 1459,-449\"/>\n<text text-anchor=\"middle\" x=\"1411.5\" y=\"-437\" font-family=\"monospace\" font-size=\"10.00\" fill=\"#000000\">prelu5.weight</text>\n<text text-anchor=\"middle\" x=\"1411.5\" y=\"-426\" font-family=\"monospace\" font-size=\"10.00\" fill=\"#000000\"> (1)</text>\n</g>\n<!-- 139781838241616&#45;&gt;139781850055888 -->\n<g id=\"edge36\" class=\"edge\">\n<title>139781838241616&#45;&gt;139781850055888</title>\n<path fill=\"none\" stroke=\"#000000\" d=\"M1411.5,-418.6924C1411.5,-409.5067 1411.5,-397.7245 1411.5,-387.8312\"/>\n<polygon fill=\"#000000\" stroke=\"#000000\" points=\"1415.0001,-387.703 1411.5,-377.7031 1408.0001,-387.7031 1415.0001,-387.703\"/>\n</g>\n<!-- 139781838886736 -->\n<g id=\"node39\" class=\"node\">\n<title>139781838886736</title>\n<polygon fill=\"#d3d3d3\" stroke=\"#000000\" points=\"1581,-311.5 1480,-311.5 1480,-292.5 1581,-292.5 1581,-311.5\"/>\n<text text-anchor=\"middle\" x=\"1530.5\" y=\"-299.5\" font-family=\"monospace\" font-size=\"10.00\" fill=\"#000000\">AccumulateGrad</text>\n</g>\n<!-- 139781838886736&#45;&gt;139781850055632 -->\n<g id=\"edge37\" class=\"edge\">\n<title>139781838886736&#45;&gt;139781850055632</title>\n<path fill=\"none\" stroke=\"#000000\" d=\"M1527.2867,-292.2796C1524.5041,-283.8623 1520.394,-271.4295 1516.9374,-260.973\"/>\n<polygon fill=\"#000000\" stroke=\"#000000\" points=\"1520.2337,-259.7933 1513.7718,-251.3972 1513.5875,-261.9905 1520.2337,-259.7933\"/>\n</g>\n<!-- 139781838395632 -->\n<g id=\"node40\" class=\"node\">\n<title>139781838395632</title>\n<polygon fill=\"#add8e6\" stroke=\"#000000\" points=\"1581,-383 1480,-383 1480,-353 1581,-353 1581,-383\"/>\n<text text-anchor=\"middle\" x=\"1530.5\" y=\"-371\" font-family=\"monospace\" font-size=\"10.00\" fill=\"#000000\">conv6.weight</text>\n<text text-anchor=\"middle\" x=\"1530.5\" y=\"-360\" font-family=\"monospace\" font-size=\"10.00\" fill=\"#000000\"> (1, 32, 5, 5)</text>\n</g>\n<!-- 139781838395632&#45;&gt;139781838886736 -->\n<g id=\"edge38\" class=\"edge\">\n<title>139781838395632&#45;&gt;139781838886736</title>\n<path fill=\"none\" stroke=\"#000000\" d=\"M1530.5,-352.6924C1530.5,-343.5067 1530.5,-331.7245 1530.5,-321.8312\"/>\n<polygon fill=\"#000000\" stroke=\"#000000\" points=\"1534.0001,-321.703 1530.5,-311.7031 1527.0001,-321.7031 1534.0001,-321.703\"/>\n</g>\n<!-- 139781850058640 -->\n<g id=\"node41\" class=\"node\">\n<title>139781850058640</title>\n<polygon fill=\"#d3d3d3\" stroke=\"#000000\" points=\"1716,-251 1615,-251 1615,-232 1716,-232 1716,-251\"/>\n<text text-anchor=\"middle\" x=\"1665.5\" y=\"-239\" font-family=\"monospace\" font-size=\"10.00\" fill=\"#000000\">AccumulateGrad</text>\n</g>\n<!-- 139781850058640&#45;&gt;139781850056464 -->\n<g id=\"edge39\" class=\"edge\">\n<title>139781850058640&#45;&gt;139781850056464</title>\n<path fill=\"none\" stroke=\"#000000\" d=\"M1651.9134,-231.9197C1640.2411,-223.6893 1623.1895,-211.6657 1609.5622,-202.0567\"/>\n<polygon fill=\"#000000\" stroke=\"#000000\" points=\"1611.3821,-199.0574 1601.1926,-196.155 1607.3482,-204.7782 1611.3821,-199.0574\"/>\n</g>\n<!-- 139781838396688 -->\n<g id=\"node42\" class=\"node\">\n<title>139781838396688</title>\n<polygon fill=\"#add8e6\" stroke=\"#000000\" points=\"1713,-317 1618,-317 1618,-287 1713,-287 1713,-317\"/>\n<text text-anchor=\"middle\" x=\"1665.5\" y=\"-305\" font-family=\"monospace\" font-size=\"10.00\" fill=\"#000000\">prelu6.weight</text>\n<text text-anchor=\"middle\" x=\"1665.5\" y=\"-294\" font-family=\"monospace\" font-size=\"10.00\" fill=\"#000000\"> (1)</text>\n</g>\n<!-- 139781838396688&#45;&gt;139781850058640 -->\n<g id=\"edge40\" class=\"edge\">\n<title>139781838396688&#45;&gt;139781850058640</title>\n<path fill=\"none\" stroke=\"#000000\" d=\"M1665.5,-286.7333C1665.5,-279.0322 1665.5,-269.5977 1665.5,-261.3414\"/>\n<polygon fill=\"#000000\" stroke=\"#000000\" points=\"1669.0001,-261.0864 1665.5,-251.0864 1662.0001,-261.0864 1669.0001,-261.0864\"/>\n</g>\n</g>\n</svg>\n"
          },
          "metadata": {},
          "execution_count": 26
        }
      ],
      "source": [
        "x = Variable(torch.randn(1,1,33,33))\n",
        "y = model(x)\n",
        "make_dot(y.mean(),params=dict(model.named_parameters()))"
      ]
    },
    {
      "cell_type": "code",
      "execution_count": 26,
      "metadata": {
        "id": "YJIPDcydtiF9"
      },
      "outputs": [],
      "source": [
        ""
      ]
    }
  ],
  "metadata": {
    "kernelspec": {
      "display_name": "pytorcch",
      "language": "python",
      "name": "pytorcch"
    },
    "language_info": {
      "codemirror_mode": {
        "name": "ipython",
        "version": 3
      },
      "file_extension": ".py",
      "mimetype": "text/x-python",
      "name": "python",
      "nbconvert_exporter": "python",
      "pygments_lexer": "ipython3",
      "version": "3.8.5"
    },
    "colab": {
      "name": "PYTORCH_MODEL_VISUALIZE.ipynb",
      "provenance": []
    },
    "accelerator": "GPU"
  },
  "nbformat": 4,
  "nbformat_minor": 0
}